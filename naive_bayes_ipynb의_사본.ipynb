{
  "nbformat": 4,
  "nbformat_minor": 0,
  "metadata": {
    "colab": {
      "name": "naive_bayes.ipynb의 사본",
      "version": "0.3.2",
      "provenance": [],
      "collapsed_sections": [],
      "include_colab_link": true
    },
    "kernelspec": {
      "name": "python3",
      "display_name": "Python 3"
    }
  },
  "cells": [
    {
      "cell_type": "markdown",
      "metadata": {
        "id": "view-in-github",
        "colab_type": "text"
      },
      "source": [
        "<a href=\"https://colab.research.google.com/github/yuchanmo/ds2/blob/master/naive_bayes_ipynb%EC%9D%98_%EC%82%AC%EB%B3%B8.ipynb\" target=\"_parent\"><img src=\"https://colab.research.google.com/assets/colab-badge.svg\" alt=\"Open In Colab\"/></a>"
      ]
    },
    {
      "metadata": {
        "id": "YfPuGgjPpOYc",
        "colab_type": "text"
      },
      "cell_type": "markdown",
      "source": [
        "# Naive bayes"
      ]
    },
    {
      "metadata": {
        "id": "lqWFCgHvzFoP",
        "colab_type": "text"
      },
      "cell_type": "markdown",
      "source": [
        "Install requirments"
      ]
    },
    {
      "metadata": {
        "id": "RbT0yk43nFBw",
        "colab_type": "code",
        "colab": {}
      },
      "cell_type": "code",
      "source": [
        "import sys\n",
        "!{sys.executable} -m pip install numpy scipy > /dev/null 2>&1"
      ],
      "execution_count": 0,
      "outputs": []
    },
    {
      "metadata": {
        "id": "Bh293aPtzNMJ",
        "colab_type": "text"
      },
      "cell_type": "markdown",
      "source": [
        "Import dependencies"
      ]
    },
    {
      "metadata": {
        "id": "wooMFvFEqLfh",
        "colab_type": "code",
        "colab": {}
      },
      "cell_type": "code",
      "source": [
        "import pandas as pd\n",
        "import numpy as np\n",
        "from scipy.stats import norm, bernoulli"
      ],
      "execution_count": 0,
      "outputs": []
    },
    {
      "metadata": {
        "id": "4K-tsvmKo4Gi",
        "colab_type": "code",
        "colab": {}
      },
      "cell_type": "code",
      "source": [
        "def read_dataset():\n",
        "    def _read_dataset(data):\n",
        "        np_data = data.values.astype(np.float32)\n",
        "        X = np_data[:, 1:]\n",
        "        Y = np_data[:, :1]\n",
        "        return (X, Y)\n",
        "    train_data = pd.read_csv('https://raw.githubusercontent.com/bckim92/ds2_practice/master/naive_bayes/train_data.csv')\n",
        "    train_data = _read_dataset(train_data)\n",
        "    test_data = pd.read_csv('https://raw.githubusercontent.com/bckim92/ds2_practice/master/naive_bayes/test_data.csv')\n",
        "    test_data = _read_dataset(test_data)\n",
        "    return train_data, test_data\n",
        "\n",
        "def compute_accuracy(predictions, answers):\n",
        "    assert len(predictions) == len(answers), \\\n",
        "        \"Num predictions %d and num answers %d does not match\" % (len(predictions), len(answers))\n",
        "\n",
        "    num_correct = 0\n",
        "    for prediction, answer in zip(predictions, answers):\n",
        "        if prediction == answer:\n",
        "            num_correct += 1\n",
        "    return float(num_correct) / len(predictions)"
      ],
      "execution_count": 0,
      "outputs": []
    },
    {
      "metadata": {
        "id": "braNvNmkrDSB",
        "colab_type": "code",
        "colab": {}
      },
      "cell_type": "code",
      "source": [
        "class NaiveBayesClassifier(object):\n",
        "    def __init__(self, num_classes=2):\n",
        "        self._num_classes = num_classes\n",
        "        self._feature_prob_functions = {}\n",
        "        self._class_prior = []\n",
        "\n",
        "    def fit(self, train_X, train_Y, is_continuous):\n",
        "        for class_id in range(self._num_classes):\n",
        "            class_indices = np.where(train_Y == float(class_id))[0]\n",
        "            class_features = np.take(train_X, class_indices, axis=0)\n",
        "            class_means = np.mean(class_features, axis=0)\n",
        "            class_stds = np.std(class_features, axis=0)\n",
        "            class_prior = np.log(float(len(class_indices)) / len(train_Y))\n",
        "\n",
        "            feature_prob_functions = []\n",
        "            for idx, continuous in enumerate(is_continuous):\n",
        "                if continuous:\n",
        "                    prob_function = norm(class_means[idx], class_stds[idx]).pdf # Probability density function\n",
        "                else:\n",
        "                    prob_function = bernoulli(class_means[idx]).pmf # Probability mass function\n",
        "                feature_prob_functions.append(prob_function)\n",
        "            self._feature_prob_functions[class_id] = feature_prob_functions\n",
        "            self._class_prior.append(class_prior)\n",
        "\n",
        "    def predict(self, test_X):\n",
        "        predictions = []\n",
        "        for test_x in test_X:\n",
        "            output_prob = []\n",
        "            for class_id in range(self._num_classes):\n",
        "                cum_prob = self._class_prior[class_id]\n",
        "                for x, prob_function in zip(test_x, self._feature_prob_functions[class_id]):\n",
        "                    cum_prob += np.log(prob_function(x))\n",
        "                output_prob.append(cum_prob)\n",
        "            prediction = np.argmax(output_prob)\n",
        "            predictions.append(prediction)\n",
        "        return predictions\n",
        "      \n",
        "def run_naive_bayes(train_data, test_data, is_continuous):\n",
        "    train_X, train_Y = train_data\n",
        "    test_X, test_Y = test_data\n",
        "\n",
        "    nb_classifier = NaiveBayesClassifier()\n",
        "    nb_classifier.fit(train_X, train_Y, is_continuous)\n",
        "    pred_Y = nb_classifier.predict(test_X)\n",
        "    accuracy = compute_accuracy(pred_Y, test_Y)\n",
        "\n",
        "    return accuracy"
      ],
      "execution_count": 0,
      "outputs": []
    },
    {
      "metadata": {
        "id": "qE7gI_RRzrUE",
        "colab_type": "text"
      },
      "cell_type": "markdown",
      "source": [
        "Run code!"
      ]
    },
    {
      "metadata": {
        "id": "D7DjL2Sct1vl",
        "colab_type": "code",
        "outputId": "26e6763b-68aa-4c93-cf1f-3aff19308006",
        "colab": {
          "base_uri": "https://localhost:8080/",
          "height": 35
        }
      },
      "cell_type": "code",
      "source": [
        "train_data, test_data = read_dataset()\n",
        "is_continuous = [True] * 2 + [False] * 8 + [True] * 2\n",
        "accuracy = run_naive_bayes(train_data, test_data, is_continuous)\n",
        "print(\"Accuracy : {}\".format(accuracy))"
      ],
      "execution_count": 0,
      "outputs": [
        {
          "output_type": "stream",
          "text": [
            "Accuracy : 0.770949720670391\n"
          ],
          "name": "stdout"
        }
      ]
    }
  ]
}